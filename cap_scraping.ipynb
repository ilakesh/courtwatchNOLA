{
  "nbformat": 4,
  "nbformat_minor": 0,
  "metadata": {
    "colab": {
      "name": "cap_scraping.ipynb",
      "provenance": [],
      "collapsed_sections": [],
      "include_colab_link": true
    },
    "kernelspec": {
      "name": "python3",
      "display_name": "Python 3"
    },
    "language_info": {
      "name": "python"
    }
  },
  "cells": [
    {
      "cell_type": "markdown",
      "metadata": {
        "id": "view-in-github",
        "colab_type": "text"
      },
      "source": [
        "<a href=\"https://colab.research.google.com/github/ilakesh/courtwatchNOLA/blob/gh-pages/cap_scraping.ipynb\" target=\"_parent\"><img src=\"https://colab.research.google.com/assets/colab-badge.svg\" alt=\"Open In Colab\"/></a>"
      ]
    },
    {
      "cell_type": "markdown",
      "metadata": {
        "id": "XcafvbT9Hy6L"
      },
      "source": [
        "# NOLA Court Dockets Data Analysis"
      ]
    },
    {
      "cell_type": "code",
      "metadata": {
        "id": "80aaoz3f6My5"
      },
      "source": [
        ""
      ],
      "execution_count": null,
      "outputs": []
    },
    {
      "cell_type": "code",
      "metadata": {
        "id": "kURb28Qg7LuI"
      },
      "source": [
        "# Importing tools used for web scraping and data analysis\n",
        "import requests\n",
        "from bs4 import BeautifulSoup\n",
        "import pandas as pd\n",
        "import numpy as np\n",
        "import lxml as l\n",
        "import datetime\n",
        "import re"
      ],
      "execution_count": null,
      "outputs": []
    },
    {
      "cell_type": "code",
      "metadata": {
        "id": "Qci9Vtw2Dv4T"
      },
      "source": [
        "def text_extract(s):\n",
        "  '''This extracts the text between fourth and fifth lines and creates a new entity in a second data frame with columns:\n",
        "    1) mag id\n",
        "    2) date\n",
        "    3) text\n",
        "    4) judge\n",
        "    '''"
      ],
      "execution_count": null,
      "outputs": []
    },
    {
      "cell_type": "markdown",
      "metadata": {
        "id": "PK7Vf6myIPs-"
      },
      "source": [
        "### The main function which extracts all relevant information from each docket"
      ]
    },
    {
      "cell_type": "code",
      "metadata": {
        "id": "u1jvr4B4Eze0"
      },
      "source": [
        "def extract(soup):\n",
        "  # WORKING REGEX TO GET MAG NUMBER\n",
        "  mag_num = re.search(r'MAG#: (\\d{6})', soup).group(1)\n",
        "  mag_num\n",
        "\n",
        "  # Using split with new line as delimeter -- standard spacing on top half of docket\n",
        "  defendant = soup.split(\"\\n\")[9].strip()\n",
        "  defendant\n",
        "\n",
        "  # Getting the date and judge for the proceeding\n",
        "  # It is always two lines after the 4th equal sign line\n",
        "  text = soup.split(\"\\n\")\n",
        "  equalsignline = 0\n",
        "  charges = []\n",
        "  for (count,line) in enumerate(text):\n",
        "    if line == \"=\" * 78:\n",
        "      equalsignline +=1\n",
        "    if equalsignline == 2:\n",
        "      charges.append(text[count])\n",
        "    elif equalsignline == 4:\n",
        "      #print(mag_num, text[count+2])\n",
        "      date, judge = re.sub('\\*','',text[count+2]).split()\n",
        "      break\n",
        "  # Takes \"charges\" from above and extracts count, code, bond, and charge\n",
        " \n",
        "  cnt = []\n",
        "  code = []\n",
        "  bond = []\n",
        "  charge = []\n",
        "\n",
        "  for i, line in enumerate(charges[3:-1]):\n",
        "    #print(\"i and line:\",i,line)\n",
        "    if 'BOND:' in line:\n",
        "      s = line.split()\n",
        "      #print(\"even s:\", s)\n",
        "      bond_ind = s.index(\"BOND:\")\n",
        "      cnt.append(s[0])\n",
        "      code.append(\" \".join(s[1:bond_ind]))\n",
        "      bond.append(s[bond_ind +1])\n",
        "    elif defendant in line:\n",
        "      pass\n",
        "    else:\n",
        "      s = line.split()\n",
        "      charge.append(\" \".join(s[:]))\n",
        "\n",
        "  # Duplicating the data that is the same for each charge on docket\n",
        "  mag_nums = [mag_num] * len(bond)\n",
        "  defendants = [defendant] * len(bond)\n",
        "  dates = [date] *len(bond)\n",
        "  judges = [judge] * len(bond)\n",
        "\n",
        "  #Create a dataframe using the extracted data\n",
        "  docket = pd.DataFrame({\"Mag Num\": mag_nums,\"Defendant\": defendants, \"Judge\": judges, \"Count\": cnt, \"Code\": code,\"Charge\": charge, \"Bond\": bond, \"Date\": dates})\n",
        "  return docket"
      ],
      "execution_count": null,
      "outputs": []
    },
    {
      "cell_type": "markdown",
      "metadata": {
        "id": "sB9-aJVVIi4s"
      },
      "source": [
        "### The following initializes the dataframe \"dockets\" and uses **get** request to scrape text from each docket.  Then the extract function is called and the returned dataframe is added to the \"dockets\" dataframe"
      ]
    },
    {
      "cell_type": "code",
      "metadata": {
        "id": "ibcG79AQAflw",
        "colab": {
          "base_uri": "https://localhost:8080/",
          "height": 419
        },
        "outputId": "d31b87a7-9b3b-4533-f79c-961985d5fffb"
      },
      "source": [
        "# The prefix of every url we are scraping from\n",
        "base_url = 'https://www.opso.us/dcktmstr/555555.php?&domagn='\n",
        "\n",
        "# A list corresponding to the magistrate numbers of each docket\n",
        "#l = list(range(586900, 587000))\n",
        "l = [586545]\n",
        "soups = []\n",
        "dockets = pd.DataFrame()\n",
        "for num in l:\n",
        "  try:\n",
        "    r = requests.get(base_url + str(num))\n",
        "    root = BeautifulSoup( r.content )\n",
        "    soup = str(root.find('pre'))\n",
        "    soup.__repr__()\n",
        "    dockets = dockets.append(extract(soup), ignore_index = True)\n",
        "  except:\n",
        "    print(\"Docket number {} is not working\".format(str(num)))\n",
        "display(dockets)"
      ],
      "execution_count": null,
      "outputs": [
        {
          "output_type": "display_data",
          "data": {
            "text/html": [
              "<div>\n",
              "<style scoped>\n",
              "    .dataframe tbody tr th:only-of-type {\n",
              "        vertical-align: middle;\n",
              "    }\n",
              "\n",
              "    .dataframe tbody tr th {\n",
              "        vertical-align: top;\n",
              "    }\n",
              "\n",
              "    .dataframe thead th {\n",
              "        text-align: right;\n",
              "    }\n",
              "</style>\n",
              "<table border=\"1\" class=\"dataframe\">\n",
              "  <thead>\n",
              "    <tr style=\"text-align: right;\">\n",
              "      <th></th>\n",
              "      <th>Mag Num</th>\n",
              "      <th>Defendant</th>\n",
              "      <th>Judge</th>\n",
              "      <th>Count</th>\n",
              "      <th>Code</th>\n",
              "      <th>Charge</th>\n",
              "      <th>Bond</th>\n",
              "      <th>Date</th>\n",
              "    </tr>\n",
              "  </thead>\n",
              "  <tbody>\n",
              "    <tr>\n",
              "      <th>0</th>\n",
              "      <td>586900</td>\n",
              "      <td>JORDAN, WAYNE M</td>\n",
              "      <td>SCHIAFFIN</td>\n",
              "      <td>1</td>\n",
              "      <td>RS 14 35.3</td>\n",
              "      <td>DOMESTIC ABUSE BATTERY</td>\n",
              "      <td>0.00</td>\n",
              "      <td>08/06/2020</td>\n",
              "    </tr>\n",
              "    <tr>\n",
              "      <th>1</th>\n",
              "      <td>586901</td>\n",
              "      <td>GIBSON, JASON M</td>\n",
              "      <td>SCHIAFFIN</td>\n",
              "      <td>1</td>\n",
              "      <td>RS 14 62.3</td>\n",
              "      <td>UNAUTHORIZED ENTRY INHABITED DWELLING</td>\n",
              "      <td>1,000.00</td>\n",
              "      <td>08/06/2020</td>\n",
              "    </tr>\n",
              "    <tr>\n",
              "      <th>2</th>\n",
              "      <td>586901</td>\n",
              "      <td>GIBSON, JASON M</td>\n",
              "      <td>SCHIAFFIN</td>\n",
              "      <td>1</td>\n",
              "      <td>RS 14 56(A)(1)</td>\n",
              "      <td>SIMPLE CRIMINAL DAMAGE TO PROPERTY</td>\n",
              "      <td>1,000.00</td>\n",
              "      <td>08/06/2020</td>\n",
              "    </tr>\n",
              "    <tr>\n",
              "      <th>3</th>\n",
              "      <td>586902</td>\n",
              "      <td>NAULT, CHRISTOPHER</td>\n",
              "      <td>SCHIAFFIN</td>\n",
              "      <td>1</td>\n",
              "      <td>RS 14 35.3</td>\n",
              "      <td>DOMESTIC ABUSE BATTERY</td>\n",
              "      <td>0.00</td>\n",
              "      <td>08/06/2020</td>\n",
              "    </tr>\n",
              "    <tr>\n",
              "      <th>4</th>\n",
              "      <td>586903</td>\n",
              "      <td>TROPEZ, DIANTE E</td>\n",
              "      <td>SCHIAFFIN</td>\n",
              "      <td>1</td>\n",
              "      <td>RS 14 67(B)</td>\n",
              "      <td>THEFT</td>\n",
              "      <td>0.00</td>\n",
              "      <td>08/06/2020</td>\n",
              "    </tr>\n",
              "    <tr>\n",
              "      <th>...</th>\n",
              "      <td>...</td>\n",
              "      <td>...</td>\n",
              "      <td>...</td>\n",
              "      <td>...</td>\n",
              "      <td>...</td>\n",
              "      <td>...</td>\n",
              "      <td>...</td>\n",
              "      <td>...</td>\n",
              "    </tr>\n",
              "    <tr>\n",
              "      <th>251</th>\n",
              "      <td>586997</td>\n",
              "      <td>BUSH, MICHAEL</td>\n",
              "      <td>MONTESSO</td>\n",
              "      <td>1</td>\n",
              "      <td>RS 14 68.4</td>\n",
              "      <td>UNAUTHORIZED USE OF MOTOR VEHICLE</td>\n",
              "      <td>0.00</td>\n",
              "      <td>08/11/2020</td>\n",
              "    </tr>\n",
              "    <tr>\n",
              "      <th>252</th>\n",
              "      <td>586998</td>\n",
              "      <td>BASTISTE, LATRELL D Sr.</td>\n",
              "      <td>MONTESSO</td>\n",
              "      <td>1</td>\n",
              "      <td>RS 14 37.7 B (1)</td>\n",
              "      <td>DOMESTIC ABUSE AGGRAVATED ASSAULT</td>\n",
              "      <td>0.00</td>\n",
              "      <td>08/11/2020</td>\n",
              "    </tr>\n",
              "    <tr>\n",
              "      <th>253</th>\n",
              "      <td>586998</td>\n",
              "      <td>BASTISTE, LATRELL D Sr.</td>\n",
              "      <td>MONTESSO</td>\n",
              "      <td>1</td>\n",
              "      <td>RS 14 37.7 A</td>\n",
              "      <td>DOM ABUSE AGG ASS W/DANG WEAPON ON HHM</td>\n",
              "      <td>1,000.00</td>\n",
              "      <td>08/11/2020</td>\n",
              "    </tr>\n",
              "    <tr>\n",
              "      <th>254</th>\n",
              "      <td>586999</td>\n",
              "      <td>BERNIARD, VINCENT H</td>\n",
              "      <td>MONTESSO</td>\n",
              "      <td>1</td>\n",
              "      <td>RS 14 38</td>\n",
              "      <td>SIMPLE ASSAULT</td>\n",
              "      <td>0.00</td>\n",
              "      <td>08/11/2020</td>\n",
              "    </tr>\n",
              "    <tr>\n",
              "      <th>255</th>\n",
              "      <td>586999</td>\n",
              "      <td>BERNIARD, VINCENT H</td>\n",
              "      <td>MONTESSO</td>\n",
              "      <td>1</td>\n",
              "      <td>RS 14 67(B)</td>\n",
              "      <td>THEFT</td>\n",
              "      <td>0.00</td>\n",
              "      <td>08/11/2020</td>\n",
              "    </tr>\n",
              "  </tbody>\n",
              "</table>\n",
              "<p>256 rows × 8 columns</p>\n",
              "</div>"
            ],
            "text/plain": [
              "    Mag Num                Defendant  ...      Bond        Date\n",
              "0    586900          JORDAN, WAYNE M  ...      0.00  08/06/2020\n",
              "1    586901          GIBSON, JASON M  ...  1,000.00  08/06/2020\n",
              "2    586901          GIBSON, JASON M  ...  1,000.00  08/06/2020\n",
              "3    586902       NAULT, CHRISTOPHER  ...      0.00  08/06/2020\n",
              "4    586903         TROPEZ, DIANTE E  ...      0.00  08/06/2020\n",
              "..      ...                      ...  ...       ...         ...\n",
              "251  586997            BUSH, MICHAEL  ...      0.00  08/11/2020\n",
              "252  586998  BASTISTE, LATRELL D Sr.  ...      0.00  08/11/2020\n",
              "253  586998  BASTISTE, LATRELL D Sr.  ...  1,000.00  08/11/2020\n",
              "254  586999      BERNIARD, VINCENT H  ...      0.00  08/11/2020\n",
              "255  586999      BERNIARD, VINCENT H  ...      0.00  08/11/2020\n",
              "\n",
              "[256 rows x 8 columns]"
            ]
          },
          "metadata": {}
        }
      ]
    },
    {
      "cell_type": "markdown",
      "metadata": {
        "id": "DsEXYmvH4oYd"
      },
      "source": [
        ""
      ]
    },
    {
      "cell_type": "code",
      "metadata": {
        "id": "3Hgt67eGF_lN"
      },
      "source": [
        ""
      ],
      "execution_count": null,
      "outputs": []
    },
    {
      "cell_type": "code",
      "metadata": {
        "id": "ono6tz6m9_oG"
      },
      "source": [
        "## Initial cleaning of dataframe\n",
        "# Removes \",\" from the bond value and typecasts bond to numeric\n",
        "dockets[\"Bond\"] = dockets[\"Bond\"].str.replace(',','')\n",
        "dockets[\"Bond\"] = pd.to_numeric(dockets[\"Bond\"])"
      ],
      "execution_count": null,
      "outputs": []
    },
    {
      "cell_type": "code",
      "metadata": {
        "id": "z1GjBl2GC1vI"
      },
      "source": [
        "'''\n",
        "dockets.groupby([\"Charge\"])[\"Bond\"].mean()\n",
        "dockets.groupby([\"Charge\"])[\"Bond\"].count()\n",
        "dockets.groupby([\"Charge\"])[\"Bond\"].describe()\n",
        "display(dockets)\n",
        "'''"
      ],
      "execution_count": null,
      "outputs": []
    },
    {
      "cell_type": "code",
      "metadata": {
        "id": "00Nq5ZQf9_y-"
      },
      "source": [
        ""
      ],
      "execution_count": null,
      "outputs": []
    },
    {
      "cell_type": "code",
      "metadata": {
        "id": "qjMoEBRB9_10"
      },
      "source": [
        ""
      ],
      "execution_count": null,
      "outputs": []
    },
    {
      "cell_type": "code",
      "metadata": {
        "id": "oYWv-xqT9_4J"
      },
      "source": [
        "\n",
        "\n"
      ],
      "execution_count": null,
      "outputs": []
    },
    {
      "cell_type": "code",
      "metadata": {
        "id": "ZnQPbO5s9_7K"
      },
      "source": [
        "#dockets = pd.DataFrame({\"Mag Num\": mag_nums,\"Defendant\": defendants, \"Judge\": judges, \"Count\": cnt, \"Code\": code,\"Charge\": charge, \"Bond\": bond})"
      ],
      "execution_count": null,
      "outputs": []
    },
    {
      "cell_type": "code",
      "metadata": {
        "id": "jq09CSVV9_98"
      },
      "source": [
        "#display(dockets)"
      ],
      "execution_count": null,
      "outputs": []
    },
    {
      "cell_type": "code",
      "metadata": {
        "id": "ZeUOuwdX-AA5"
      },
      "source": [
        "# # WORKING REGEX TO GET BOND\n",
        "# bond = re.findall(r'BOND:\\s*(.*)\\n', soup)\n",
        "# bond"
      ],
      "execution_count": null,
      "outputs": []
    }
  ]
}