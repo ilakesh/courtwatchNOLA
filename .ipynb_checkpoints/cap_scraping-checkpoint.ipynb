{
 "cells": [
  {
   "cell_type": "markdown",
   "metadata": {
    "colab_type": "text",
    "id": "view-in-github"
   },
   "source": [
    "<a href=\"https://colab.research.google.com/github/ilakesh/courtwatchNOLA/blob/gh-pages/cap_scraping.ipynb\" target=\"_parent\"><img src=\"https://colab.research.google.com/assets/colab-badge.svg\" alt=\"Open In Colab\"/></a>"
   ]
  },
  {
   "cell_type": "markdown",
   "metadata": {
    "id": "XcafvbT9Hy6L"
   },
   "source": [
    "# NOLA Court Dockets Data Analysis"
   ]
  },
  {
   "cell_type": "code",
   "execution_count": 1,
   "metadata": {
    "id": "kURb28Qg7LuI"
   },
   "outputs": [],
   "source": [
    "# Importing tools used for web scraping and data analysis\n",
    "import requests\n",
    "from bs4 import BeautifulSoup\n",
    "import pandas as pd\n",
    "import numpy as np\n",
    "import lxml as l\n",
    "import datetime\n",
    "import re\n",
    "import logging\n",
    "logger = logging.Logger('catch_all')"
   ]
  },
  {
   "cell_type": "code",
   "execution_count": 2,
   "metadata": {
    "id": "Qci9Vtw2Dv4T"
   },
   "outputs": [],
   "source": [
    "def text_extract(s):\n",
    "  '''This extracts the text between fourth and fifth lines and creates a new entity in a second data frame with columns:\n",
    "    1) mag id\n",
    "    2) date\n",
    "    3) text\n",
    "    4) judge\n",
    "    '''"
   ]
  },
  {
   "cell_type": "markdown",
   "metadata": {
    "id": "PK7Vf6myIPs-"
   },
   "source": [
    "### The main function which extracts all relevant information from each docket"
   ]
  },
  {
   "cell_type": "code",
   "execution_count": 3,
   "metadata": {},
   "outputs": [],
   "source": [
    "def get_mag(soup):\n",
    "    \"\"\"WORKING REGEX TO GET MAG NUMBER\"\"\"\n",
    "    mag_num = re.search(r'MAG#: (\\d{6})', soup).group(1)\n",
    "    return mag_num"
   ]
  },
  {
   "cell_type": "code",
   "execution_count": 4,
   "metadata": {},
   "outputs": [],
   "source": [
    "def get_defendant_name(text):\n",
    "    \"\"\"Using split with new line as delimeter -- standard spacing on top half of docket\"\"\"\n",
    "    defendant = text[9].strip()\n",
    "    return defendant"
   ]
  },
  {
   "cell_type": "code",
   "execution_count": 5,
   "metadata": {},
   "outputs": [],
   "source": [
    "def get_date_judge_chargestext(text):\n",
    "    \"\"\"Getting the date and judge for the proceeding and extracting the charges text\"\"\"\n",
    "    # It is always two lines after the 4th equal sign line\n",
    "    equalsignline = 0\n",
    "    charges = []\n",
    "    for (count,line) in enumerate(text):\n",
    "        if line == \"=\" * 78:\n",
    "            equalsignline +=1\n",
    "        if equalsignline == 2:\n",
    "            charges.append(text[count])\n",
    "        elif equalsignline == 4:\n",
    "            #print(mag_num, text[count+2]\n",
    "            date, judge = re.sub('\\*','',text[count+2]).split()\n",
    "            break\n",
    "    return date, judge, charges"
   ]
  },
  {
   "cell_type": "code",
   "execution_count": 6,
   "metadata": {},
   "outputs": [],
   "source": [
    "def extract_charges_bond(charges):\n",
    "    \"\"\"Takes \"charges\" from above and extracts count, code, bond, and charge\"\"\"\n",
    "    cnt = []\n",
    "    code = []\n",
    "    bond = []\n",
    "    charge = []\n",
    "    for i, line in enumerate(charges[3:-1]):\n",
    "        #print(\"i and line:\",i,line)\n",
    "        if 'BOND:' in line:\n",
    "            s = line.split()\n",
    "            bond_ind = s.index(\"BOND:\")\n",
    "            cnt.append(s[0])\n",
    "            code.append(\" \".join(s[1:bond_ind]))\n",
    "            bond.append(s[bond_ind +1])\n",
    "        elif defendant in line:\n",
    "            pass\n",
    "        else:\n",
    "            s = line.split()\n",
    "            charge.append(\" \".join(s[:]))\n",
    "    return cnt, code, bond, charge"
   ]
  },
  {
   "cell_type": "code",
   "execution_count": 7,
   "metadata": {
    "id": "u1jvr4B4Eze0"
   },
   "outputs": [],
   "source": [
    "def create_docket_df_entry(mag_num, defendant, date, bond, judge, cnt, code, charge):\n",
    "    # Duplicating the data that is the same for each charge on docket    \n",
    "    mag_nums = [mag_num] * len(bond)\n",
    "    defendants = [defendant] * len(bond)\n",
    "    dates = [date] *len(bond)\n",
    "    judges = [judge] * len(bond)\n",
    "    #Create a dataframe using the extracted data\n",
    "    docket = pd.DataFrame({\"Mag Num\": mag_nums,\"Defendant\": defendants, \"Judge\": judges, \"Count\": cnt, \"Code\": code,\"Charge\": charge, \"Bond\": bond, \"Date\": dates})\n",
    "    return docket"
   ]
  },
  {
   "cell_type": "markdown",
   "metadata": {
    "id": "sB9-aJVVIi4s"
   },
   "source": [
    "### The following initializes the dataframe \"dockets\" and uses **get** request to scrape text from each docket.  Then the extract functions are called and the returned dataframe is added to the \"dockets\" dataframe"
   ]
  },
  {
   "cell_type": "code",
   "execution_count": 8,
   "metadata": {
    "colab": {
     "base_uri": "https://localhost:8080/",
     "height": 419
    },
    "id": "ibcG79AQAflw",
    "outputId": "d31b87a7-9b3b-4533-f79c-961985d5fffb"
   },
   "outputs": [
    {
     "data": {
      "text/html": [
       "<div>\n",
       "<style scoped>\n",
       "    .dataframe tbody tr th:only-of-type {\n",
       "        vertical-align: middle;\n",
       "    }\n",
       "\n",
       "    .dataframe tbody tr th {\n",
       "        vertical-align: top;\n",
       "    }\n",
       "\n",
       "    .dataframe thead th {\n",
       "        text-align: right;\n",
       "    }\n",
       "</style>\n",
       "<table border=\"1\" class=\"dataframe\">\n",
       "  <thead>\n",
       "    <tr style=\"text-align: right;\">\n",
       "      <th></th>\n",
       "      <th>Mag Num</th>\n",
       "      <th>Defendant</th>\n",
       "      <th>Judge</th>\n",
       "      <th>Count</th>\n",
       "      <th>Code</th>\n",
       "      <th>Charge</th>\n",
       "      <th>Bond</th>\n",
       "      <th>Date</th>\n",
       "    </tr>\n",
       "  </thead>\n",
       "  <tbody>\n",
       "    <tr>\n",
       "      <th>0</th>\n",
       "      <td>586545</td>\n",
       "      <td>SCOTT, REEVA N</td>\n",
       "      <td>DESALVOE</td>\n",
       "      <td>1</td>\n",
       "      <td>RS 14 56(A)(1)</td>\n",
       "      <td>SIMPLE CRIMINAL DAMAGE TO PROPERTY</td>\n",
       "      <td>0.00</td>\n",
       "      <td>07/13/2020</td>\n",
       "    </tr>\n",
       "    <tr>\n",
       "      <th>1</th>\n",
       "      <td>586545</td>\n",
       "      <td>SCOTT, REEVA N</td>\n",
       "      <td>DESALVOE</td>\n",
       "      <td>1</td>\n",
       "      <td>RS 14 34.9</td>\n",
       "      <td>BATTERY UPON DATING PARTNER</td>\n",
       "      <td>0.00</td>\n",
       "      <td>07/13/2020</td>\n",
       "    </tr>\n",
       "  </tbody>\n",
       "</table>\n",
       "</div>"
      ],
      "text/plain": [
       "  Mag Num       Defendant     Judge Count            Code  \\\n",
       "0  586545  SCOTT, REEVA N  DESALVOE     1  RS 14 56(A)(1)   \n",
       "1  586545  SCOTT, REEVA N  DESALVOE     1      RS 14 34.9   \n",
       "\n",
       "                               Charge  Bond        Date  \n",
       "0  SIMPLE CRIMINAL DAMAGE TO PROPERTY  0.00  07/13/2020  \n",
       "1         BATTERY UPON DATING PARTNER  0.00  07/13/2020  "
      ]
     },
     "metadata": {},
     "output_type": "display_data"
    }
   ],
   "source": [
    "# The prefix of every url we are scraping from\n",
    "base_url = 'https://www.opso.us/dcktmstr/555555.php?&domagn='\n",
    "\n",
    "# A list corresponding to the magistrate numbers of each docket\n",
    "#l = list(range(586900, 587000))\n",
    "l = [586545]\n",
    "soups = []\n",
    "dockets = pd.DataFrame()\n",
    "for num in l:\n",
    "    r = requests.get(base_url + str(num))\n",
    "    root = BeautifulSoup( r.content )\n",
    "    soup = str(root.find('pre'))\n",
    "    soup.__repr__()\n",
    "    text = soup.split(\"\\n\")\n",
    "    \n",
    "    mag_num = get_mag(soup)\n",
    "    defendant = get_defendant_name(text)\n",
    "    date, judge, charges = get_date_judge_chargestext(text)\n",
    "    cnt, code, bond, charge = extract_charges_bond(charges)\n",
    "    \n",
    "    dockets = dockets.append(create_docket_df_entry(mag_num, defendant, date, bond, judge, cnt, code, charge), ignore_index = True)\n",
    "    except Exception as e:\n",
    "        logger.error('Failed to upload to ftp: '+ str(e))\n",
    "        print(\"Docket number {} is not working\".format(str(num)))\n",
    "display(dockets)"
   ]
  },
  {
   "cell_type": "markdown",
   "metadata": {
    "id": "DsEXYmvH4oYd"
   },
   "source": []
  },
  {
   "cell_type": "code",
   "execution_count": null,
   "metadata": {
    "id": "3Hgt67eGF_lN"
   },
   "outputs": [],
   "source": []
  },
  {
   "cell_type": "code",
   "execution_count": 9,
   "metadata": {
    "id": "ono6tz6m9_oG"
   },
   "outputs": [],
   "source": [
    "## Initial cleaning of dataframe\n",
    "# Removes \",\" from the bond value and typecasts bond to numeric\n",
    "dockets[\"Bond\"] = dockets[\"Bond\"].str.replace(',','')\n",
    "dockets[\"Bond\"] = pd.to_numeric(dockets[\"Bond\"])"
   ]
  },
  {
   "cell_type": "code",
   "execution_count": 10,
   "metadata": {},
   "outputs": [
    {
     "data": {
      "text/html": [
       "<div>\n",
       "<style scoped>\n",
       "    .dataframe tbody tr th:only-of-type {\n",
       "        vertical-align: middle;\n",
       "    }\n",
       "\n",
       "    .dataframe tbody tr th {\n",
       "        vertical-align: top;\n",
       "    }\n",
       "\n",
       "    .dataframe thead th {\n",
       "        text-align: right;\n",
       "    }\n",
       "</style>\n",
       "<table border=\"1\" class=\"dataframe\">\n",
       "  <thead>\n",
       "    <tr style=\"text-align: right;\">\n",
       "      <th></th>\n",
       "      <th>Mag Num</th>\n",
       "      <th>Defendant</th>\n",
       "      <th>Judge</th>\n",
       "      <th>Count</th>\n",
       "      <th>Code</th>\n",
       "      <th>Charge</th>\n",
       "      <th>Bond</th>\n",
       "      <th>Date</th>\n",
       "    </tr>\n",
       "  </thead>\n",
       "  <tbody>\n",
       "    <tr>\n",
       "      <th>0</th>\n",
       "      <td>586545</td>\n",
       "      <td>SCOTT, REEVA N</td>\n",
       "      <td>DESALVOE</td>\n",
       "      <td>1</td>\n",
       "      <td>RS 14 56(A)(1)</td>\n",
       "      <td>SIMPLE CRIMINAL DAMAGE TO PROPERTY</td>\n",
       "      <td>0.0</td>\n",
       "      <td>07/13/2020</td>\n",
       "    </tr>\n",
       "    <tr>\n",
       "      <th>1</th>\n",
       "      <td>586545</td>\n",
       "      <td>SCOTT, REEVA N</td>\n",
       "      <td>DESALVOE</td>\n",
       "      <td>1</td>\n",
       "      <td>RS 14 34.9</td>\n",
       "      <td>BATTERY UPON DATING PARTNER</td>\n",
       "      <td>0.0</td>\n",
       "      <td>07/13/2020</td>\n",
       "    </tr>\n",
       "  </tbody>\n",
       "</table>\n",
       "</div>"
      ],
      "text/plain": [
       "  Mag Num       Defendant     Judge Count            Code  \\\n",
       "0  586545  SCOTT, REEVA N  DESALVOE     1  RS 14 56(A)(1)   \n",
       "1  586545  SCOTT, REEVA N  DESALVOE     1      RS 14 34.9   \n",
       "\n",
       "                               Charge  Bond        Date  \n",
       "0  SIMPLE CRIMINAL DAMAGE TO PROPERTY   0.0  07/13/2020  \n",
       "1         BATTERY UPON DATING PARTNER   0.0  07/13/2020  "
      ]
     },
     "metadata": {},
     "output_type": "display_data"
    }
   ],
   "source": [
    "display(dockets)"
   ]
  },
  {
   "cell_type": "code",
   "execution_count": 11,
   "metadata": {
    "id": "z1GjBl2GC1vI"
   },
   "outputs": [
    {
     "data": {
      "text/html": [
       "<div>\n",
       "<style scoped>\n",
       "    .dataframe tbody tr th:only-of-type {\n",
       "        vertical-align: middle;\n",
       "    }\n",
       "\n",
       "    .dataframe tbody tr th {\n",
       "        vertical-align: top;\n",
       "    }\n",
       "\n",
       "    .dataframe thead th {\n",
       "        text-align: right;\n",
       "    }\n",
       "</style>\n",
       "<table border=\"1\" class=\"dataframe\">\n",
       "  <thead>\n",
       "    <tr style=\"text-align: right;\">\n",
       "      <th></th>\n",
       "      <th>Mag Num</th>\n",
       "      <th>Defendant</th>\n",
       "      <th>Judge</th>\n",
       "      <th>Count</th>\n",
       "      <th>Code</th>\n",
       "      <th>Charge</th>\n",
       "      <th>Bond</th>\n",
       "      <th>Date</th>\n",
       "    </tr>\n",
       "  </thead>\n",
       "  <tbody>\n",
       "    <tr>\n",
       "      <th>0</th>\n",
       "      <td>586545</td>\n",
       "      <td>SCOTT, REEVA N</td>\n",
       "      <td>DESALVOE</td>\n",
       "      <td>1</td>\n",
       "      <td>RS 14 56(A)(1)</td>\n",
       "      <td>SIMPLE CRIMINAL DAMAGE TO PROPERTY</td>\n",
       "      <td>0.0</td>\n",
       "      <td>07/13/2020</td>\n",
       "    </tr>\n",
       "    <tr>\n",
       "      <th>1</th>\n",
       "      <td>586545</td>\n",
       "      <td>SCOTT, REEVA N</td>\n",
       "      <td>DESALVOE</td>\n",
       "      <td>1</td>\n",
       "      <td>RS 14 34.9</td>\n",
       "      <td>BATTERY UPON DATING PARTNER</td>\n",
       "      <td>0.0</td>\n",
       "      <td>07/13/2020</td>\n",
       "    </tr>\n",
       "  </tbody>\n",
       "</table>\n",
       "</div>"
      ],
      "text/plain": [
       "  Mag Num       Defendant     Judge Count            Code  \\\n",
       "0  586545  SCOTT, REEVA N  DESALVOE     1  RS 14 56(A)(1)   \n",
       "1  586545  SCOTT, REEVA N  DESALVOE     1      RS 14 34.9   \n",
       "\n",
       "                               Charge  Bond        Date  \n",
       "0  SIMPLE CRIMINAL DAMAGE TO PROPERTY   0.0  07/13/2020  \n",
       "1         BATTERY UPON DATING PARTNER   0.0  07/13/2020  "
      ]
     },
     "metadata": {},
     "output_type": "display_data"
    }
   ],
   "source": [
    "dockets.groupby([\"Charge\"])[\"Bond\"].mean()\n",
    "dockets.groupby([\"Charge\"])[\"Bond\"].count()\n",
    "dockets.groupby([\"Charge\"])[\"Bond\"].describe()\n",
    "display(dockets)"
   ]
  },
  {
   "cell_type": "code",
   "execution_count": null,
   "metadata": {
    "id": "00Nq5ZQf9_y-"
   },
   "outputs": [],
   "source": []
  },
  {
   "cell_type": "code",
   "execution_count": null,
   "metadata": {
    "id": "qjMoEBRB9_10"
   },
   "outputs": [],
   "source": []
  },
  {
   "cell_type": "code",
   "execution_count": null,
   "metadata": {
    "id": "oYWv-xqT9_4J"
   },
   "outputs": [],
   "source": [
    "\n",
    "\n"
   ]
  },
  {
   "cell_type": "code",
   "execution_count": 12,
   "metadata": {
    "id": "ZnQPbO5s9_7K"
   },
   "outputs": [],
   "source": [
    "#dockets = pd.DataFrame({\"Mag Num\": mag_nums,\"Defendant\": defendants, \"Judge\": judges, \"Count\": cnt, \"Code\": code,\"Charge\": charge, \"Bond\": bond})"
   ]
  },
  {
   "cell_type": "code",
   "execution_count": 13,
   "metadata": {
    "id": "jq09CSVV9_98"
   },
   "outputs": [],
   "source": [
    "#display(dockets)"
   ]
  },
  {
   "cell_type": "code",
   "execution_count": 14,
   "metadata": {
    "id": "ZeUOuwdX-AA5"
   },
   "outputs": [],
   "source": [
    "# # WORKING REGEX TO GET BOND\n",
    "# bond = re.findall(r'BOND:\\s*(.*)\\n', soup)\n",
    "# bond"
   ]
  }
 ],
 "metadata": {
  "colab": {
   "collapsed_sections": [],
   "include_colab_link": true,
   "name": "cap_scraping.ipynb",
   "provenance": []
  },
  "kernelspec": {
   "display_name": "Python 3 (ipykernel)",
   "language": "python",
   "name": "python3"
  },
  "language_info": {
   "codemirror_mode": {
    "name": "ipython",
    "version": 3
   },
   "file_extension": ".py",
   "mimetype": "text/x-python",
   "name": "python",
   "nbconvert_exporter": "python",
   "pygments_lexer": "ipython3",
   "version": "3.7.4"
  }
 },
 "nbformat": 4,
 "nbformat_minor": 1
}
